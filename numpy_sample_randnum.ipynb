{
 "cells": [
  {
   "cell_type": "code",
   "execution_count": 4,
   "id": "c137b1ac",
   "metadata": {},
   "outputs": [
    {
     "name": "stdout",
     "output_type": "stream",
     "text": [
      "16 random numbers from a standard normal distribution:\n",
      "[-1.04354236  0.87228213  0.38256683  0.21380599 -0.25533373 -0.28709098\n",
      " -0.07283281 -0.07666783  0.5461326  -1.29423168  0.37631266 -0.26103829\n",
      "  0.08999386 -0.79755     0.24154707  0.31774534]\n",
      "[ 0.43350178  0.19287326  0.01178697 -0.5587183   0.21699192 -1.2764854\n",
      " -0.44380115 -0.83944656 -0.14684913  0.09323236  1.05302759  0.6348854\n",
      " -1.052317   -1.06721369 -1.41571998 -0.44050694]\n",
      "Random numbers converted into a 4x4 matrix\n",
      "[[-1.04354236  0.87228213  0.38256683  0.21380599]\n",
      " [-0.25533373 -0.28709098 -0.07283281 -0.07666783]\n",
      " [ 0.5461326  -1.29423168  0.37631266 -0.26103829]\n",
      " [ 0.08999386 -0.79755     0.24154707  0.31774534]]\n",
      "[[ 0.43350178  0.19287326  0.01178697 -0.5587183 ]\n",
      " [ 0.21699192 -1.2764854  -0.44380115 -0.83944656]\n",
      " [-0.14684913  0.09323236  1.05302759  0.6348854 ]\n",
      " [-1.052317   -1.06721369 -1.41571998 -0.44050694]]\n",
      "Multiplication output from the random number arrays\n",
      "[[-0.45237747  0.1682399   0.0045093  -0.11945732]\n",
      " [-0.05540536  0.36646745  0.03232328  0.06435855]\n",
      " [-0.0801991  -0.12066427  0.39626761 -0.1657294 ]\n",
      " [-0.09470207  0.85115628 -0.34196301 -0.13996903]]\n"
     ]
    }
   ],
   "source": [
    "# Sample numpy code - generate 2 random number sequences, convert them to square matrices, and multiply them \n",
    "# together, element by element\n",
    "# Generate two random normal sequences\n",
    "\n",
    "import numpy as np\n",
    "rand_num_one=np.random.normal(0,1,16)\n",
    "print(\"16 random numbers from a standard normal distribution:\")\n",
    "print(rand_num_one)\n",
    "rand_num_two=np.random.normal(0,1,16)\n",
    "print(rand_num_two)\n",
    "\n",
    "# Reshape 16-length sequences into square 4x4 arrays\n",
    "\n",
    "adjust_rand_one=rand_num_one.reshape(-1,4)\n",
    "print(\"Random numbers converted into a 4x4 matrix\")\n",
    "print(adjust_rand_one)\n",
    "adjust_rand_two=rand_num_two.reshape(-1,4)\n",
    "print(adjust_rand_two)\n",
    "\n",
    "# Multiply matrices together elementwise, outputting single result\n",
    "\n",
    "combined_array=np.multiply(adjust_rand_one,adjust_rand_two)\n",
    "print(\"Multiplication output from the random number arrays\")\n",
    "print(combined_array)"
   ]
  },
  {
   "cell_type": "code",
   "execution_count": null,
   "id": "89d4b9fe",
   "metadata": {},
   "outputs": [],
   "source": []
  },
  {
   "cell_type": "code",
   "execution_count": null,
   "id": "da53d625",
   "metadata": {},
   "outputs": [],
   "source": []
  }
 ],
 "metadata": {
  "kernelspec": {
   "display_name": "Python 3",
   "language": "python",
   "name": "python3"
  },
  "language_info": {
   "codemirror_mode": {
    "name": "ipython",
    "version": 3
   },
   "file_extension": ".py",
   "mimetype": "text/x-python",
   "name": "python",
   "nbconvert_exporter": "python",
   "pygments_lexer": "ipython3",
   "version": "3.9.1"
  }
 },
 "nbformat": 4,
 "nbformat_minor": 5
}
