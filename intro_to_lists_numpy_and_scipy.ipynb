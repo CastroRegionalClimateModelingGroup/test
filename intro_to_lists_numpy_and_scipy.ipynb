{
 "cells": [
  {
   "cell_type": "code",
   "execution_count": 1,
   "metadata": {},
   "outputs": [],
   "source": [
    "#!/usr/bin/env python\n",
    "import numpy as np\n",
    "import pandas as pd\n",
    "import scipy as sp\n",
    "from scipy import stats\n",
    "\n",
    "import matplotlib\n",
    "import matplotlib.pyplot as plt\n",
    "import matplotlib.dates as mdates\n",
    "pd.set_option('display.max_rows', None)"
   ]
  },
  {
   "cell_type": "code",
   "execution_count": 2,
   "metadata": {},
   "outputs": [],
   "source": [
    "# Reading data\n",
    "filename = 'KTUS.csv'"
   ]
  },
  {
   "cell_type": "code",
   "execution_count": 3,
   "metadata": {},
   "outputs": [],
   "source": [
    "# Read the data into a pandas dataframe, and define columns, header and index\n",
    "df = pd.read_csv(filename, sep = ',',index_col='Date_Time',skiprows=7,\n",
    "        names =['Station_ID','Date_Time',\n",
    "                'air_temp_set_1_F','dew_point_temperature_set_1_F','precip_accum_one_hour_set_1_Inches',\n",
    "                'dew_point_temperature_set_1d_F'])\n",
    "\n",
    "# Rename columns, and index\n",
    "df.columns = ['Station_ID','Air_Temp_F','Dewpoint_Temp_F','Precip_1Hour_Accum_Inches',\n",
    "                'Dewpoint_Temp_set2_F']\n",
    "\n",
    "# Set index data type to a DateTime object\n",
    "df.index = pd.to_datetime(df.index)"
   ]
  },
  {
   "cell_type": "code",
   "execution_count": 4,
   "metadata": {},
   "outputs": [],
   "source": [
    "# Make numpy lists of the data\n",
    "Hour       = df.index.hour.tolist()\n",
    "Station_ID = df.Station_ID.values.tolist()\n",
    "Air_Temp_F = df.Air_Temp_F.values.tolist()\n",
    "Precip_1Hour_Accum_Inches = df.Precip_1Hour_Accum_Inches.values.tolist()\n",
    "Dewpoint_Temp_F = df.Dewpoint_Temp_set2_F.values.tolist()"
   ]
  },
  {
   "cell_type": "code",
   "execution_count": 5,
   "metadata": {},
   "outputs": [
    {
     "name": "stdout",
     "output_type": "stream",
     "text": [
      "68.0\n",
      "107.6\n",
      "85.41520746432492\n",
      "8.875432869627222\n",
      "0.40619592098807733\n",
      "-0.582210333914496\n"
     ]
    }
   ],
   "source": [
    "# Calculating some basic properites\n",
    "print(min(Air_Temp_F)) # np.min(Air_Temp_F) or Air_Temp_F.min()\n",
    "print(max(Air_Temp_F)) # np.max(Air_Temp_F) or Air_Temp_F.max()\n",
    "print(np.mean(Air_Temp_F))\n",
    "print(np.std(Air_Temp_F))\n",
    "print(stats.skew(Air_Temp_F))\n",
    "print(stats.kurtosis(Air_Temp_F))"
   ]
  },
  {
   "cell_type": "code",
   "execution_count": 6,
   "metadata": {},
   "outputs": [
    {
     "name": "stdout",
     "output_type": "stream",
     "text": [
      "786  of  9110\n"
     ]
    }
   ],
   "source": [
    "# Making and empty list to add the \n",
    "# index values I'm interested in to\n",
    "ilist = []\n",
    "\n",
    "# Loop over the length of the flow list\n",
    "# and adding the index value to the ilist\n",
    "# if it meets a specified criteria\n",
    "# use and / or for multple conditions\n",
    "for i in range(len(Air_Temp_F)):\n",
    "        if Air_Temp_F[i] > 85 and 6 < Hour[i] < 18 :\n",
    "                ilist.append(i)\n",
    "\n",
    "# see how many times the criteria was met by checking the length\n",
    "# of the index list that was generated\n",
    "print(len(ilist),' of ',len(Air_Temp_F))"
   ]
  },
  {
   "cell_type": "code",
   "execution_count": 7,
   "metadata": {},
   "outputs": [
    {
     "name": "stdout",
     "output_type": "stream",
     "text": [
      "3558  of  9110\n"
     ]
    }
   ],
   "source": [
    "# Do the same for loop but in one line \n",
    "ilist2 = [i for i in range(len(Air_Temp_F)) if Air_Temp_F[i] > 75 and 6 < Hour[i] < 18 ]\n",
    "print(len(ilist2),' of ',len(Air_Temp_F))"
   ]
  },
  {
   "cell_type": "code",
   "execution_count": 8,
   "metadata": {},
   "outputs": [],
   "source": [
    "# Extract the data that met the criteria\n",
    "# This  subset of data is just the elements identified \n",
    "# in the ilist\n",
    "subset  = [Air_Temp_F[j] for j in ilist]"
   ]
  },
  {
   "cell_type": "code",
   "execution_count": 9,
   "metadata": {},
   "outputs": [],
   "source": [
    "# take a random sample of the data \n",
    "random_sample = np.random.choice(Air_Temp_F,size=len(subset))"
   ]
  },
  {
   "cell_type": "code",
   "execution_count": 11,
   "metadata": {},
   "outputs": [
    {
     "name": "stdout",
     "output_type": "stream",
     "text": [
      "statistic 11.811618620616914 pvalue 6.623899453845563e-31\n"
     ]
    }
   ],
   "source": [
    "# perfrom a t-test on the >75F subset versus the random sample\n",
    "statistic, pvalue = stats.ttest_ind(a=subset, b=random_sample, equal_var=True)\n",
    "print('statistic',statistic,'pvalue',pvalue)"
   ]
  }
 ],
 "metadata": {
  "kernelspec": {
   "display_name": "Python 3",
   "language": "python",
   "name": "python3"
  },
  "language_info": {
   "codemirror_mode": {
    "name": "ipython",
    "version": 3
   },
   "file_extension": ".py",
   "mimetype": "text/x-python",
   "name": "python",
   "nbconvert_exporter": "python",
   "pygments_lexer": "ipython3",
   "version": "3.6.7"
  }
 },
 "nbformat": 4,
 "nbformat_minor": 4
}
