{
 "cells": [
  {
   "cell_type": "code",
   "execution_count": 1,
   "metadata": {},
   "outputs": [],
   "source": [
    "#!/usr/bin/env python\n",
    "import os\n",
    "import numpy as np\n",
    "import sys\n",
    "import xarray as xr\n",
    "import pygrib\n",
    "import matplotlib\n",
    "import matplotlib.pyplot as plt\n",
    "import cartopy\n",
    "import cartopy.crs as ccrs\n",
    "from cartopy.mpl.gridliner import LONGITUDE_FORMATTER, LATITUDE_FORMATTER"
   ]
  },
  {
   "cell_type": "code",
   "execution_count": 2,
   "metadata": {},
   "outputs": [
    {
     "data": {
      "text/plain": [
       "(400, 600)"
      ]
     },
     "execution_count": 2,
     "metadata": {},
     "output_type": "execute_result"
    }
   ],
   "source": [
    "# NetCDF4 files\n",
    "\n",
    "# Set pathway and filename\n",
    "path_mpi  = '/f2/haboob/home/shared/Haboob_SERDP/CMIP5_MPI_Hires/'\n",
    "model_data = xr.open_dataset(path_mpi+'wrfout_d03_2010-07-10_06:00:00')\n",
    "#model_data  # uncomment this to see full list of variables/dimensions of xarray\n",
    "\n",
    "# Assign one variable in data file RAINNC to script variable \n",
    "# select last index -1 in time dimension because RAINNC is hourly accumulated \n",
    "pr_model = model_data.RAINNC[-1,:,:]\n",
    "pr_model.shape"
   ]
  },
  {
   "cell_type": "code",
   "execution_count": 3,
   "metadata": {},
   "outputs": [],
   "source": [
    "# GRIB2 files\n",
    "\n",
    "# Set pathway and filename\n",
    "path_stageiv = '/net/fractus/f1/luong/SERDP/Stage_IV/raw/'\n",
    "file = 'ST4.2010071012.24h'\n",
    "#path_stageiv+file #uncomment to check pathway"
   ]
  },
  {
   "cell_type": "code",
   "execution_count": 4,
   "metadata": {},
   "outputs": [],
   "source": [
    "# Use pygrib to open grib file\n",
    "grbs = pygrib.open(path_stageiv+file)\n",
    "#grbs.read() # uncomment to read all grib information like variables/dimensions "
   ]
  },
  {
   "cell_type": "code",
   "execution_count": 5,
   "metadata": {},
   "outputs": [
    {
     "data": {
      "text/plain": [
       "((881, 1121), (881, 1121), (881, 1121))"
      ]
     },
     "execution_count": 5,
     "metadata": {},
     "output_type": "execute_result"
    }
   ],
   "source": [
    "# Select variables, assign to script variables, and any processing\n",
    "msg = grbs.select(name='Total Precipitation')[0]  \n",
    "# Replace the missing values with a more robust missing value, np.nan\n",
    "precip_obs = np.where(msg.values.data==9999.0, np.nan, msg.values.data)\n",
    "lats_obs, lons_obs = msg.latlons()\n",
    "# Check local dimensions\n",
    "precip_obs.shape,lats_obs.shape,lons_obs.shape"
   ]
  },
  {
   "cell_type": "code",
   "execution_count": 6,
   "metadata": {},
   "outputs": [
    {
     "data": {
      "text/plain": [
       "(881, 1121)"
      ]
     },
     "execution_count": 6,
     "metadata": {},
     "output_type": "execute_result"
    }
   ],
   "source": [
    "# Create xarray for obs data for efficient lat/lon subsetting\n",
    "pr_obs = xr.DataArray(data=precip_obs,\n",
    "                  dims=[\"x\", \"y\"],\n",
    "                  coords=dict(lon=([\"x\", \"y\"], lons_obs),\n",
    "                              lat=([\"x\", \"y\"], lats_obs)),\n",
    "                  attrs=dict(description=\"Precipitation Rate\",\n",
    "                             units=\"mm/day\")                      )\n",
    "pr_obs.shape"
   ]
  },
  {
   "cell_type": "code",
   "execution_count": 7,
   "metadata": {},
   "outputs": [
    {
     "data": {
      "text/plain": [
       "((290, 228), (196, 159))"
      ]
     },
     "execution_count": 7,
     "metadata": {},
     "output_type": "execute_result"
    }
   ],
   "source": [
    "# Crop both files to Arizona co-ordinates\n",
    "# Define AZ co-ordinates\n",
    "az_cood = [-115, -109, 31.0, 37.5] \n",
    "# Crop model data\n",
    "az_pr_model = pr_model.where((az_cood[0] <= pr_model.XLONG) & (pr_model.XLONG < az_cood[1])\n",
    "                      & (az_cood[2] <= pr_model.XLAT) & (pr_model.XLAT < az_cood[3]), drop=True)\n",
    "# Crop observations\n",
    "az_pr_obs = pr_obs.where((az_cood[0] <= pr_obs.lon) & (pr_obs.lon < az_cood[1])\n",
    "                      & (az_cood[2] <= pr_obs.lat) & (pr_obs.lat < az_cood[3]), drop=True)\n",
    "\n",
    "az_pr_model.shape,az_pr_obs.shape"
   ]
  },
  {
   "cell_type": "code",
   "execution_count": null,
   "metadata": {},
   "outputs": [],
   "source": [
    "# Panel plot of model vs obs\n",
    "\n",
    "# set the projection for the map\n",
    "projection = ccrs.PlateCarree()\n",
    "\n",
    "# start a figure named fig, set axis name, dimesions of fig, and projection\n",
    "fig, (ax1,ax2) = plt.subplots(1, 2, figsize=(16, 8),\n",
    "                       subplot_kw={'projection': projection})\n",
    "\n",
    "## AX1\n",
    "# set levels for colorbar\n",
    "levels = np.arange(5,35,5)\n",
    "# plot filled contours (contourf) onto ax1\n",
    "cs = ax1.contourf(az_pr_model.XLONG.data, az_pr_model.XLAT.data, az_pr_model.data,\n",
    "                  transform=projection,\n",
    "                  cmap='gist_ncar_r',levels=levels,\n",
    "                  extend='both')\n",
    "\n",
    "# add color bar\n",
    "labels = [str(item) for item in levels]\n",
    "cax,kw = matplotlib.colorbar.make_axes(ax1,ticks=levels,location='right',pad=0.03,shrink=0.7)\n",
    "cbar = fig.colorbar(cs,cax=cax,**kw)\n",
    "cbar.ax.set_yticklabels(labels)\n",
    "cbar.set_label('Precipitation $[mm/day]$',size=10)\n",
    "\n",
    "# crop extent of map to lat/lon of data\n",
    "ax1.set_extent(az_cood)\n",
    "\n",
    "# add lat lon gridline\n",
    "gl = ax1.gridlines(draw_labels=True,\n",
    "             xlocs=np.arange(-180, 180, 1.),\n",
    "             ylocs=np.arange(-90, 90, 1.),\n",
    "             linewidth=0.5, color='k', alpha=0.5, linestyle=':')\n",
    "gl.xlabels_top = None\n",
    "gl.ylabels_right = None\n",
    "gl.xformatter = LONGITUDE_FORMATTER\n",
    "gl.yformatter = LATITUDE_FORMATTER\n",
    "\n",
    "# set plot title\n",
    "ax1.set_title('2010-07-10 :: WRF-MPI Model', loc='center',pad=5,fontsize=12) \n",
    "\n",
    "# add map features to plot\n",
    "#ax1.add_feature(cartopy.feature.LAND)\n",
    "#ax1.add_feature(cartopy.feature.OCEAN)\n",
    "ax1.add_feature(cartopy.feature.COASTLINE)\n",
    "ax1.add_feature(cartopy.feature.STATES,linewidth=0.5)\n",
    "ax1.add_feature(cartopy.feature.BORDERS, linestyle=':',linewidth=0.5)\n",
    "\n",
    "## AX2\n",
    "# plot filled contours (contourf) onto ax2\n",
    "cs = ax2.contourf(az_pr_obs.lon, az_pr_obs.lat, az_pr_obs,\n",
    "                  transform=projection,\n",
    "                  cmap='gist_ncar_r',levels=levels,\n",
    "                  extend='both')\n",
    "\n",
    "# add color bar\n",
    "labels = [str(item) for item in levels]\n",
    "cax,kw = matplotlib.colorbar.make_axes(ax2,ticks=levels,location='right',pad=0.03,shrink=0.7)\n",
    "cbar = fig.colorbar(cs,cax=cax,**kw)\n",
    "cbar.ax.set_yticklabels(labels)\n",
    "cbar.set_label('Precipitation $[mm/day]$',size=10)\n",
    "\n",
    "# crop extent of map to lat/lon of data\n",
    "ax2.set_extent(az_cood)\n",
    "\n",
    "# add lat lon gridline\n",
    "gl = ax2.gridlines(draw_labels=True,\n",
    "             xlocs=np.arange(-180, 180, 1.),\n",
    "             ylocs=np.arange(-90, 90, 1.),\n",
    "             linewidth=0.5, color='k', alpha=0.5, linestyle=':')\n",
    "gl.xlabels_top = None\n",
    "gl.ylabels_right = None\n",
    "gl.xformatter = LONGITUDE_FORMATTER\n",
    "gl.yformatter = LATITUDE_FORMATTER\n",
    "\n",
    "# set plot title\n",
    "ax2.set_title('2010-07-10 :: Stage IV Observations', loc='center',pad=5,fontsize=12) \n",
    "\n",
    "# add map features to plot\n",
    "#ax2.add_feature(cartopy.feature.LAND)\n",
    "#ax2.add_feature(cartopy.feature.OCEAN)\n",
    "ax2.add_feature(cartopy.feature.COASTLINE)\n",
    "ax2.add_feature(cartopy.feature.STATES,linewidth=0.5)\n",
    "ax2.add_feature(cartopy.feature.BORDERS, linestyle=':',linewidth=0.5)\n",
    "\n",
    "# save plot to same directory as script\n",
    "plotfile = 'model_vs_obs_precip_plot.png'\n",
    "sf = fig.savefig(plotfile, dpi=300, bbox_inches='tight')\n",
    "plt.show()"
   ]
  },
  {
   "cell_type": "code",
   "execution_count": null,
   "metadata": {},
   "outputs": [],
   "source": []
  }
 ],
 "metadata": {
  "kernelspec": {
   "display_name": "Python 3",
   "language": "python",
   "name": "python3"
  },
  "language_info": {
   "codemirror_mode": {
    "name": "ipython",
    "version": 3
   },
   "file_extension": ".py",
   "mimetype": "text/x-python",
   "name": "python",
   "nbconvert_exporter": "python",
   "pygments_lexer": "ipython3",
   "version": "3.6.7"
  }
 },
 "nbformat": 4,
 "nbformat_minor": 4
}
